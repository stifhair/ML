{
 "cells": [
  {
   "cell_type": "markdown",
   "metadata": {},
   "source": [
    "## 1.input Data 입수"
   ]
  },
  {
   "cell_type": "code",
   "execution_count": 18,
   "metadata": {},
   "outputs": [],
   "source": [
    "import pandas as pd\n",
    "import numpy as np\n",
    "import math\n",
    "from matplotlib import pyplot as plt\n",
    "\n",
    "res_table = pd.read_excel('./sample.xlsx',\n",
    "                            sheet_name ='output'\n",
    "                           ,header = 0)\n",
    "\n",
    "row_table = pd.read_excel('./sample.xlsx',\n",
    "                           sheet_name ='input',\n",
    "                           header = 0)\n",
    "\n",
    "std_res = list(res_table.columns)\n",
    "res_name =list(res_table.iloc[0])\n",
    "del res_name[0]"
   ]
  },
  {
   "cell_type": "markdown",
   "metadata": {},
   "source": [
    " ## 2.sample.xlsx라는 엑셀 파일문서에서 일간데이터를 설정한다. "
   ]
  },
  {
   "cell_type": "code",
   "execution_count": 19,
   "metadata": {},
   "outputs": [],
   "source": [
    "# 일단 일간수익률 테이블을 만들어서 넣는다.\n",
    "index        = list(row_table.columns)\n",
    "index_header = list(row_table.columns)\n",
    "index_header.append(\"portfolio_yield\")\n",
    "del index[0]\n",
    "yield_lst     = []\n",
    "yield_lst_set = []\n",
    "yield_table  = pd.DataFrame(columns=index_header)ㅠ\n",
    "port_yield   = 0.0"
   ]
  },
  {
   "cell_type": "markdown",
   "metadata": {},
   "source": [
    "## 3.Daily Yield수익률을 구한다."
   ]
  },
  {
   "cell_type": "code",
   "execution_count": 20,
   "metadata": {},
   "outputs": [],
   "source": [
    "#행의 개수만큼 돌린다. 수익률을 구한다.\n",
    "for i in range( 1, row_table.shape[0]-1 ):\n",
    "    yield_lst = []\n",
    "    port_yield = 0.0\n",
    "    yield_lst.append(row_table.iloc[i + 1]['date'])\n",
    "    for index_name in index:\n",
    "        imsi= row_table.iloc[i + 1][index_name] / row_table.iloc[i][index_name] - 1\n",
    "        yield_lst.append(imsi)\n",
    "        if index_name != 'MXWD INDEX' and index_name != 'USDKRW Curncy' :\n",
    "            port_yield = port_yield + (imsi) * row_table.iloc[0][index_name]\n",
    "        else:\n",
    "            pass\n",
    "    yield_lst.append(port_yield)\n",
    "    yield_lst_set =[]\n",
    "    yield_lst_set.append(tuple(yield_lst))\n",
    "    df2 = pd.DataFrame.from_records(yield_lst_set,columns=index_header)\n",
    "    yield_table=yield_table.append(df2)\n",
    "yield_table = yield_table.reset_index(drop=True)"
   ]
  },
  {
   "cell_type": "markdown",
   "metadata": {},
   "source": [
    "## 4.분기별 수익률을 산출"
   ]
  },
  {
   "cell_type": "code",
   "execution_count": 9,
   "metadata": {},
   "outputs": [],
   "source": [
    "#분기별 수익률을 산출한다.\n",
    "port_yield   = 0.0\n",
    "yield_lst    = []\n",
    "\n",
    "gl_yld_lst   = []\n",
    "port_yld_lst = []\n",
    "date_yld_lst  = []\n",
    "qt_yield_table  = pd.DataFrame(columns=index_header)\n",
    "\n",
    "for i in range(0, len(std_res)-1):\n",
    "    yield_lst = []\n",
    "    port_yield = 0.0\n",
    "    str_expr1 = \"date=={}\".format(std_res[i])\n",
    "    str_expr2 = \"date=={}\".format(std_res[i+1])\n",
    "    df1 = row_table.query(str_expr1)\n",
    "    df2 = row_table.query(str_expr2)\n",
    "\n",
    "    yield_lst.append(std_res[i+1])\n",
    "\n",
    "\n",
    "    for index_name in index:\n",
    "        q_y = df2.iloc[0][index_name] / df1.iloc[0][index_name] - 1\n",
    "        yield_lst.append(q_y)\n",
    "        if index_name == 'MXWD INDEX':\n",
    "            gl_yld_lst.append(q_y)\n",
    "\n",
    "        if index_name != 'MXWD INDEX' and index_name != 'USDKRW Curncy' :\n",
    "            port_yield = port_yield + (q_y) * row_table.iloc[0][index_name]\n",
    "        else:\n",
    "            pass\n",
    "\n",
    "    port_yld_lst.append(port_yield)\n",
    "    date_yld_lst.append(row_table.iloc[i + 1]['date'])\n",
    "    yield_lst.append(port_yield)\n",
    "    yield_lst_set =[]\n",
    "    yield_lst_set.append(tuple(yield_lst))\n",
    "    df2 = pd.DataFrame.from_records(yield_lst_set,columns=index_header)\n",
    "    qt_yield_table = qt_yield_table.append(df2)\n",
    "\n",
    "qt_yield_table = qt_yield_table.reset_index(drop=True)"
   ]
  },
  {
   "cell_type": "markdown",
   "metadata": {},
   "source": [
    "## 5.분기별 변동성을 산출"
   ]
  },
  {
   "cell_type": "code",
   "execution_count": 21,
   "metadata": {},
   "outputs": [],
   "source": [
    "#분기별 변동성을 산출한다.\n",
    "vol_date_lst   = []\n",
    "port_vol_lst   = []\n",
    "global_vol_lst = []\n",
    "for i in range(0, len(std_res)-1):\n",
    "    str_expr1            = \"date>={0} and date < {1}\".format(std_res[i],std_res[i+1])\n",
    "    df1                  = yield_table.query(str_expr1)\n",
    "    global_index_list    = list(df1['MXWD INDEX'])\n",
    "    portfolio_index_list = list(df1['portfolio_yield'])\n",
    "\n",
    "    global_vol    = np.std(global_index_list)    * math.sqrt(252)  # array로 뽑아서 넣어야 함\n",
    "    portfolio_vol = np.std(portfolio_index_list) * math.sqrt(252)  # array로 뽑아서 넣어야 함\n",
    "\n",
    "    vol_date_lst.append(std_res[i+1])\n",
    "    port_vol_lst.append(portfolio_vol)\n",
    "    global_vol_lst.append(global_vol)"
   ]
  },
  {
   "cell_type": "markdown",
   "metadata": {},
   "source": [
    "## 6.그래프로 산출하여 보여준다."
   ]
  },
  {
   "cell_type": "code",
   "execution_count": 22,
   "metadata": {},
   "outputs": [
    {
     "data": {
      "image/png": "[encoded data removed]",
      "text/plain": [
       "<Figure size 432x288 with 1 Axes>"
      ]
     },
     "metadata": {
      "needs_background": "light"
     },
     "output_type": "display_data"
    }
   ],
   "source": [
    "def create_x(t, w, n, d):\n",
    "    return [t*x + w*n for x in range(d)]\n",
    "\n",
    "value_a_x = create_x(2, 1, 1, len(res_name))\n",
    "value_b_x = create_x(2, 1, 2, len(res_name))\n",
    "ax = plt.subplot()\n",
    "ax.bar(value_a_x, gl_yld_lst)\n",
    "ax.bar(value_b_x, port_yld_lst)\n",
    "middle_x = [(a+b)/2 for (a,b) in zip(value_a_x, value_b_x)]\n",
    "ax.set_xticks(middle_x)\n",
    "ax.set_xticklabels(res_name)\n",
    "plt.title('Global & Portpolio Yield BackTesting')\n",
    "plt.legend(['Global' , 'Portfolio'])\n",
    "plt.xlabel('Time')\n",
    "plt.ylabel('Yield')\n",
    "plt.show()\n"
   ]
  },
  {
   "cell_type": "code",
   "execution_count": null,
   "metadata": {},
   "outputs": [],
   "source": []
  }
 ],
 "metadata": {
  "kernelspec": {
   "display_name": "Python 3",
   "language": "python",
   "name": "python3"
  },
  "language_info": {
   "codemirror_mode": {
    "name": "ipython",
    "version": 3
   },
   "file_extension": ".py",
   "mimetype": "text/x-python",
   "name": "python",
   "nbconvert_exporter": "python",
   "pygments_lexer": "ipython3",
   "version": "3.7.7"
  }
 },
 "nbformat": 4,
 "nbformat_minor": 4
}
